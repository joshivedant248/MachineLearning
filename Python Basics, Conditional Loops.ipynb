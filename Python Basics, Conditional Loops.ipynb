{
 "cells": [
  {
   "cell_type": "markdown",
   "id": "36e62cf7",
   "metadata": {},
   "source": [
    "#                                                       Assignment 1"
   ]
  },
  {
   "cell_type": "markdown",
   "id": "a025f2d0",
   "metadata": {},
   "source": [
    "1. Write a program which will find all such numbers which are divisible by 7 but are not a multiple of 5, between 2000 and 3200 (both included). The numbers obtained should be printed  in a comma-separated sequence on a single line. "
   ]
  },
  {
   "cell_type": "code",
   "execution_count": 40,
   "id": "05c6fa3f",
   "metadata": {},
   "outputs": [],
   "source": [
    " a=[*range(2000,3201,1)]"
   ]
  },
  {
   "cell_type": "code",
   "execution_count": 41,
   "id": "089ed05d",
   "metadata": {},
   "outputs": [
    {
     "name": "stdout",
     "output_type": "stream",
     "text": [
      "2002 ,2009 ,2016 ,2023 ,2037 ,2044 ,2051 ,2058 ,2072 ,2079 ,2086 ,2093 ,2107 ,2114 ,2121 ,2128 ,2142 ,2149 ,2156 ,2163 ,2177 ,2184 ,2191 ,2198 ,2212 ,2219 ,2226 ,2233 ,2247 ,2254 ,2261 ,2268 ,2282 ,2289 ,2296 ,2303 ,2317 ,2324 ,2331 ,2338 ,2352 ,2359 ,2366 ,2373 ,2387 ,2394 ,2401 ,2408 ,2422 ,2429 ,2436 ,2443 ,2457 ,2464 ,2471 ,2478 ,2492 ,2499 ,2506 ,2513 ,2527 ,2534 ,2541 ,2548 ,2562 ,2569 ,2576 ,2583 ,2597 ,2604 ,2611 ,2618 ,2632 ,2639 ,2646 ,2653 ,2667 ,2674 ,2681 ,2688 ,2702 ,2709 ,2716 ,2723 ,2737 ,2744 ,2751 ,2758 ,2772 ,2779 ,2786 ,2793 ,2807 ,2814 ,2821 ,2828 ,2842 ,2849 ,2856 ,2863 ,2877 ,2884 ,2891 ,2898 ,2912 ,2919 ,2926 ,2933 ,2947 ,2954 ,2961 ,2968 ,2982 ,2989 ,2996 ,3003 ,3017 ,3024 ,3031 ,3038 ,3052 ,3059 ,3066 ,3073 ,3087 ,3094 ,3101 ,3108 ,3122 ,3129 ,3136 ,3143 ,3157 ,3164 ,3171 ,3178 ,3192 ,3199 ,"
     ]
    }
   ],
   "source": [
    "for i in a:\n",
    "    if(i%7==0 and i%5!=0):\n",
    "        print(i,\",\",end=\"\")"
   ]
  },
  {
   "cell_type": "markdown",
   "id": "49df4720",
   "metadata": {},
   "source": [
    "2.Write a Python program to accept the user's first and last name and then getting them printed in the the reverse order with a space between first name and last name."
   ]
  },
  {
   "cell_type": "code",
   "execution_count": 42,
   "id": "bf70da80",
   "metadata": {},
   "outputs": [
    {
     "name": "stdout",
     "output_type": "stream",
     "text": [
      "Enter Your First Name Vedant\n",
      "Enter Your Last Name Joshi\n"
     ]
    }
   ],
   "source": [
    "firstname=input(\"Enter Your First Name \")\n",
    "lastname=input(\"Enter Your Last Name \")"
   ]
  },
  {
   "cell_type": "code",
   "execution_count": 43,
   "id": "91aff008",
   "metadata": {},
   "outputs": [],
   "source": [
    "b=firstname[::-1]"
   ]
  },
  {
   "cell_type": "code",
   "execution_count": 44,
   "id": "f0d02609",
   "metadata": {},
   "outputs": [
    {
     "data": {
      "text/plain": [
       "'tnadeV'"
      ]
     },
     "execution_count": 44,
     "metadata": {},
     "output_type": "execute_result"
    }
   ],
   "source": [
    "b"
   ]
  },
  {
   "cell_type": "code",
   "execution_count": 45,
   "id": "a5802ed6",
   "metadata": {},
   "outputs": [],
   "source": [
    "c=lastname[::-1]"
   ]
  },
  {
   "cell_type": "code",
   "execution_count": 46,
   "id": "91a7143e",
   "metadata": {},
   "outputs": [
    {
     "data": {
      "text/plain": [
       "'ihsoJ'"
      ]
     },
     "execution_count": 46,
     "metadata": {},
     "output_type": "execute_result"
    }
   ],
   "source": [
    "c"
   ]
  },
  {
   "cell_type": "code",
   "execution_count": 47,
   "id": "4eecbfb1",
   "metadata": {},
   "outputs": [
    {
     "data": {
      "text/plain": [
       "'ihsoJ tnadeV'"
      ]
     },
     "execution_count": 47,
     "metadata": {},
     "output_type": "execute_result"
    }
   ],
   "source": [
    "c+\" \"+b"
   ]
  },
  {
   "cell_type": "markdown",
   "id": "d63e3337",
   "metadata": {},
   "source": [
    "3. Write a Python program to find the volume of a sphere with diameter 12 cm.Formula: V=4/3 * π * r 3 "
   ]
  },
  {
   "cell_type": "code",
   "execution_count": 48,
   "id": "7c848471",
   "metadata": {},
   "outputs": [],
   "source": [
    "v=(4*3.144*12*12*12)/3"
   ]
  },
  {
   "cell_type": "code",
   "execution_count": 49,
   "id": "40741db6",
   "metadata": {},
   "outputs": [
    {
     "name": "stdout",
     "output_type": "stream",
     "text": [
      "Volume of Sphere is  7243.776000000001 cubic centimeters\n"
     ]
    }
   ],
   "source": [
    "print(\"Volume of Sphere is \",v,\"cubic centimeters\")"
   ]
  },
  {
   "cell_type": "code",
   "execution_count": null,
   "id": "8859180e",
   "metadata": {},
   "outputs": [],
   "source": []
  }
 ],
 "metadata": {
  "kernelspec": {
   "display_name": "Python 3 (ipykernel)",
   "language": "python",
   "name": "python3"
  },
  "language_info": {
   "codemirror_mode": {
    "name": "ipython",
    "version": 3
   },
   "file_extension": ".py",
   "mimetype": "text/x-python",
   "name": "python",
   "nbconvert_exporter": "python",
   "pygments_lexer": "ipython3",
   "version": "3.9.7"
  }
 },
 "nbformat": 4,
 "nbformat_minor": 5
}
